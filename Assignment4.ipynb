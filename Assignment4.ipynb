{
 "cells": [
  {
   "cell_type": "code",
   "execution_count": 5,
   "metadata": {},
   "outputs": [
    {
     "name": "stdout",
     "output_type": "stream",
     "text": [
      "Count of e in GeeksforGeeks is : 7\n",
      "[0, 5, 14, 24]\n"
     ]
    }
   ],
   "source": [
    "import re\n",
    "test_str = \"what we think we become;we are python programmer\"\n",
    "substring = 'w'\n",
    "  \n",
    "\n",
    "count = 0\n",
    "matches = re.finditer(substring, test_str)\n",
    "\n",
    "matches_positions = [match.start() for match in matches]\n",
    "\n",
    "\n",
    "  \n",
    "for i in test_str: \n",
    "    if i == 'e': \n",
    "        count = count + 1\n",
    "    \n",
    "  \n",
    "# printing result  \n",
    "print (\"Count of e in GeeksforGeeks is : \"\n",
    "                            +  str(count))\n",
    "print(matches_positions)"
   ]
  },
  {
   "cell_type": "code",
   "execution_count": 8,
   "metadata": {},
   "outputs": [
    {
     "name": "stdout",
     "output_type": "stream",
     "text": [
      "True\n",
      "True\n",
      "False\n",
      "False\n",
      "False\n",
      "False\n",
      "False\n",
      "True\n"
     ]
    }
   ],
   "source": [
    "str1 = \"ISWARYA\"\n",
    "print(str1.isupper())\n",
    "\n",
    "# str2 with uppercase character, DOT, SPACE \n",
    "str2 = \"I AM ISWARYA\"\n",
    "print(str2.isupper())\n",
    "\n",
    "# str3 with uppercase and lowercase characters\n",
    "str3 =\"I am ISWARYA\"\n",
    "print(str3.isupper())\n",
    "\n",
    "# str4 with all lowercase characters\n",
    "str4 = \"i am iswarya\"\n",
    "print(str4.isupper())\n",
    "\n",
    "# str5 with all lowercase characters\n",
    "str5 = \"helloiamiswarya\"\n",
    "print(str1.islower())\n",
    "\n",
    "# str6 with lowercase character, DOT, SPACE \n",
    "str6 = \"ish.iswarya\"\n",
    "print(str2.islower())\n",
    "\n",
    "# str7 with lowercase and uppercase characters\n",
    "str7 =\"I am IswArYa\"\n",
    "print(str3.islower())\n",
    "\n",
    "# str8 with all uppercase characters\n",
    "str8 = \"IAMISWARYA\"\n",
    "print(str4.islower())"
   ]
  },
  {
   "cell_type": "code",
   "execution_count": null,
   "metadata": {},
   "outputs": [],
   "source": []
  }
 ],
 "metadata": {
  "kernelspec": {
   "display_name": "Python 3",
   "language": "python",
   "name": "python3"
  },
  "language_info": {
   "codemirror_mode": {
    "name": "ipython",
    "version": 3
   },
   "file_extension": ".py",
   "mimetype": "text/x-python",
   "name": "python",
   "nbconvert_exporter": "python",
   "pygments_lexer": "ipython3",
   "version": "3.7.6"
  }
 },
 "nbformat": 4,
 "nbformat_minor": 4
}
