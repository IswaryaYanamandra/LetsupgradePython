{
 "cells": [
  {
   "cell_type": "code",
   "execution_count": 3,
   "metadata": {},
   "outputs": [
    {
     "name": "stdout",
     "output_type": "stream",
     "text": [
      "Enter the Number:6\n",
      "The sum of N numbers is: 21\n"
     ]
    }
   ],
   "source": [
    "N=int(input(\"Enter the Number:\"))\n",
    "sum=0\n",
    "i=1\n",
    "while i<=N:\n",
    "    sum+=i\n",
    "    i+=1\n",
    "print(\"The sum of N numbers is:\",sum)\n"
   ]
  },
  {
   "cell_type": "code",
   "execution_count": 4,
   "metadata": {},
   "outputs": [
    {
     "name": "stdout",
     "output_type": "stream",
     "text": [
      "Enter the Number:6\n",
      "6 is not a prime number\n"
     ]
    }
   ],
   "source": [
    "N=int(input(\"Enter the Number:\"))\n",
    " \n",
    " \n",
    "if N > 1: \n",
    "      \n",
    "   for i in range(2,N):  \n",
    "       if (N % i) == 0: \n",
    "           print(N, \"is not a prime number\") \n",
    "           break\n",
    "   else: \n",
    "       print(N, \"is a prime number\") \n",
    "  \n",
    "else: \n",
    "   print(N, \"is not a prime number\")"
   ]
  },
  {
   "cell_type": "code",
   "execution_count": null,
   "metadata": {},
   "outputs": [],
   "source": []
  }
 ],
 "metadata": {
  "kernelspec": {
   "display_name": "Python 3",
   "language": "python",
   "name": "python3"
  },
  "language_info": {
   "codemirror_mode": {
    "name": "ipython",
    "version": 3
   },
   "file_extension": ".py",
   "mimetype": "text/x-python",
   "name": "python",
   "nbconvert_exporter": "python",
   "pygments_lexer": "ipython3",
   "version": "3.7.6"
  }
 },
 "nbformat": 4,
 "nbformat_minor": 4
}
